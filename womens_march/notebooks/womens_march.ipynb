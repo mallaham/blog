{
 "metadata": {
  "name": "",
  "signature": "sha256:ad6dd7fc2375dc5cc5fe341892b69c3df49e81a4a3f998c1350f581064b6fbe6"
 },
 "nbformat": 3,
 "nbformat_minor": 0,
 "worksheets": [
  {
   "cells": [
    {
     "cell_type": "heading",
     "level": 1,
     "metadata": {},
     "source": [
      "Code for \"A Bird's Eye View on #WomensMarch\""
     ]
    },
    {
     "cell_type": "markdown",
     "metadata": {},
     "source": [
      "This notebook details the code used to produce the figures and results of the blog post \"A Bird's Eye View on #WomensMarch\" by Ryan J. Gallagher. All code was written by Ryan J. Gallagher. Tweet data was collected by Chris Fusting.\n",
      "\n",
      "A few notes:\n",
      "1. Tweets were collected from Twitter's Gardenhose stream which provides a 10% sample of all tweets. We have access to this stream through the Vermont Complex Systems Center. While we cannot provide the raw tweet data, tweet IDs for the tweets that we studied are available online.\n",
      "2. Tweets were collected by searching for the following (case-sensitive) keywords: #WomensMarch, #womensmarch, Women's March, women's march, Womens March, womens march. Tweets in this dataset were posted on January 21st, 2017, the day of the Women's March on Washington.\n",
      "3. Since the data was collected directly from the Vermont Advanced Computing Core, the tweets are formatted in files indicating 15min. intervals (Eastern time). In each file, each line is an individual tweet in JSON format. In my working directory, they live in 'data/raw-tweets/'."
     ]
    },
    {
     "cell_type": "heading",
     "level": 3,
     "metadata": {},
     "source": [
      "Preliminaries"
     ]
    },
    {
     "cell_type": "code",
     "collapsed": false,
     "input": [
      "import os\n",
      "import json\n",
      "import numpy as np\n",
      "import networkx as nx\n",
      "from pprint import pprint\n",
      "from datetime import datetime\n",
      "from datetime import timedelta\n",
      "from itertools import combinations\n",
      "\n",
      "import matplotlib.pyplot as plt\n",
      "\n",
      "from string import punctuation\n",
      "exclude = set(punctuation)\n",
      "exclude.remove('#') # we'll treat hashtags like words\n",
      "from nltk.corpus import stopwords\n",
      "stop_words = stopwords.words('english')"
     ],
     "language": "python",
     "metadata": {},
     "outputs": [],
     "prompt_number": 1
    },
    {
     "cell_type": "markdown",
     "metadata": {},
     "source": [
      "Note, the two functions below are not actually used in this notebook. I've decided to leave them here in case anyone wants to do a heavier textual analysis and doesn't want to start from scratch writing a tweet text cleaning funtion."
     ]
    },
    {
     "cell_type": "code",
     "collapsed": false,
     "input": [
      "def removeAllFromText(text, symbol):\n",
      "    \"\"\"INPUTS: text, and a symbol to remove from the text\n",
      "       OUTPUT: text with the symbol removed\n",
      "    \"\"\"\n",
      "    while symbol in text:\n",
      "        sym_begin = text.find(symbol)\n",
      "        sym_end = text[sym_begin:].find(\" \")\n",
      "        if sym_end != -1: #symbol is not at the end of the tweet\n",
      "            sym = text[sym_begin:(sym_begin+sym_end)]\n",
      "        else:\n",
      "            sym = text[sym_begin:]\n",
      "        text = text.replace(sym, \"\")\n",
      "    return text\n",
      "            \n",
      "def cleanTweet(tweet_text):\n",
      "    \"\"\"INPUTS: text of a tweet and hashtag under consideration\n",
      "       OUTPUT: a 'cleaned' version of the text where handles, hashtags, and\n",
      "               links have been removed, punctuation removed, and hashtag under \n",
      "               consideration removed (in that order)\n",
      "    \"\"\"\n",
      "    #Remove Retweet indicator\n",
      "    tweet_text = removeAllFromText(tweet_text, 'RT')\n",
      "    #Make all words lower case\n",
      "    tweet_text = tweet_text.lower()\n",
      "    #Remove handles from tweet\n",
      "    tweet_text = removeAllFromText(tweet_text, '@')\n",
      "    #Remove URLs\n",
      "    tweet_text = removeAllFromText(tweet_text, 'http')\n",
      "    #Remove Twitter links\n",
      "    tweet_text = removeAllFromText(tweet_text, '//t.co') \n",
      "    #Clean up any punctuation\n",
      "    tweet_chars_noPunct = [char for char in tweet_text if char not in exclude]\n",
      "    tweet_noPunct = \"\".join(tweet_chars_noPunct)\n",
      "    tweet_as_list = tweet_noPunct.strip().split()\n",
      "    #Convert from a list to a single string\n",
      "    cleaned_text = ' '.join(tweet_as_list)\n",
      "    #Remove any unicode characters (not a perfect fix...)\n",
      "    cleaned_text.encode('utf-8').decode('unicode_escape').encode('ascii','ignore') \n",
      "    #Convert back to list\n",
      "    tweet_as_list = cleaned_text.strip().split()\n",
      "    #Remove stopwords\n",
      "    cleaned_list = [word for word in tweet_as_list if word not in stop_words]\n",
      "    \n",
      "    return cleaned_list"
     ],
     "language": "python",
     "metadata": {},
     "outputs": [],
     "prompt_number": 2
    },
    {
     "cell_type": "code",
     "collapsed": false,
     "input": [
      "while 'Desktop' not in os.listdir(os.getcwd()):\n",
      "    os.chdir('..')\n",
      "os.chdir('Desktop/blog/womens_march')"
     ],
     "language": "python",
     "metadata": {},
     "outputs": [],
     "prompt_number": 3
    },
    {
     "cell_type": "heading",
     "level": 3,
     "metadata": {},
     "source": [
      "Number of Tweets and Most Popular Hashtags"
     ]
    },
    {
     "cell_type": "markdown",
     "metadata": {},
     "source": [
      "The rough idea for our analysis is to loop through all of the tweets in each 15min. interval file and collect the metadata that we need. You will see several variations on the code below throughout the notebook. We could do this more efficiently and loop through exactly once and collect all the data we need, but this allows us to make our workflow a bit more modular.\n",
      "\n",
      "In this first loop, we'll gather data for how many tweets were posted over the course of the day, as well as counts on the hashtags that were used in the tweets."
     ]
    },
    {
     "cell_type": "code",
     "collapsed": false,
     "input": [
      "times         = [] # time stamps on each 15min interval\n",
      "counts        = [] # count of number of tweets in each 15min interval\n",
      "no_hashtags   = 0  # number of tweets that don't have hashtags\n",
      "hashtag2count = {} # key: hashtag, value: number of times hashtag appears\n",
      "\n",
      "for time_interval_file in os.listdir('data/raw-tweets'):\n",
      "    with open('data/raw-tweets/'+time_interval_file, 'rb') as f:\n",
      "        count = 0\n",
      "        for line in f:\n",
      "            # Get tweet\n",
      "            tweet = json.loads(line)\n",
      "            if type(tweet) == dict: # there are some \"null\" tweets, i.e. just a blank line\n",
      "                # Get hashtags\n",
      "                try: # There might not be any hashtags\n",
      "                    hashtag_dict_list = tweet['twitter_entities']['hashtags']\n",
      "                    for hashtag_dict in hashtag_dict_list:\n",
      "                        hashtag = hashtag_dict['text'].lower()\n",
      "                        if hashtag in hashtag2count:\n",
      "                            hashtag2count[hashtag] += 1\n",
      "                        else:\n",
      "                            hashtag2count[hashtag] = 1\n",
      "                except KeyError:\n",
      "                    no_hashtags += 1\n",
      "                    \n",
      "                # Update tweet count\n",
      "                count += 1\n",
      "        \n",
      "        # Append counts and datetime object\n",
      "        counts.append(count)\n",
      "        time = datetime.strptime(time_interval_file, '%Y-%m-%d-%H-%M')\n",
      "        times.append(time)\n",
      "        \n",
      "        # Print a small loading update\n",
      "        if time_interval_file[-2:] == '00':\n",
      "            print 'Finished loading %s' % time_interval_file"
     ],
     "language": "python",
     "metadata": {},
     "outputs": [
      {
       "output_type": "stream",
       "stream": "stdout",
       "text": [
        "Finished loading 2017-01-21-00-00\n",
        "Finished loading 2017-01-21-01-00"
       ]
      },
      {
       "output_type": "stream",
       "stream": "stdout",
       "text": [
        "\n",
        "Finished loading 2017-01-21-02-00"
       ]
      },
      {
       "output_type": "stream",
       "stream": "stdout",
       "text": [
        "\n",
        "Finished loading 2017-01-21-03-00"
       ]
      },
      {
       "output_type": "stream",
       "stream": "stdout",
       "text": [
        "\n",
        "Finished loading 2017-01-21-04-00"
       ]
      },
      {
       "output_type": "stream",
       "stream": "stdout",
       "text": [
        "\n",
        "Finished loading 2017-01-21-05-00"
       ]
      },
      {
       "output_type": "stream",
       "stream": "stdout",
       "text": [
        "\n",
        "Finished loading 2017-01-21-06-00"
       ]
      },
      {
       "output_type": "stream",
       "stream": "stdout",
       "text": [
        "\n",
        "Finished loading 2017-01-21-07-00"
       ]
      },
      {
       "output_type": "stream",
       "stream": "stdout",
       "text": [
        "\n",
        "Finished loading 2017-01-21-08-00"
       ]
      },
      {
       "output_type": "stream",
       "stream": "stdout",
       "text": [
        "\n",
        "Finished loading 2017-01-21-09-00"
       ]
      },
      {
       "output_type": "stream",
       "stream": "stdout",
       "text": [
        "\n",
        "Finished loading 2017-01-21-10-00"
       ]
      },
      {
       "output_type": "stream",
       "stream": "stdout",
       "text": [
        "\n",
        "Finished loading 2017-01-21-11-00"
       ]
      },
      {
       "output_type": "stream",
       "stream": "stdout",
       "text": [
        "\n",
        "Finished loading 2017-01-21-12-00"
       ]
      },
      {
       "output_type": "stream",
       "stream": "stdout",
       "text": [
        "\n",
        "Finished loading 2017-01-21-13-00"
       ]
      },
      {
       "output_type": "stream",
       "stream": "stdout",
       "text": [
        "\n",
        "Finished loading 2017-01-21-14-00"
       ]
      },
      {
       "output_type": "stream",
       "stream": "stdout",
       "text": [
        "\n",
        "Finished loading 2017-01-21-15-00"
       ]
      },
      {
       "output_type": "stream",
       "stream": "stdout",
       "text": [
        "\n",
        "Finished loading 2017-01-21-16-00"
       ]
      },
      {
       "output_type": "stream",
       "stream": "stdout",
       "text": [
        "\n",
        "Finished loading 2017-01-21-17-00"
       ]
      },
      {
       "output_type": "stream",
       "stream": "stdout",
       "text": [
        "\n",
        "Finished loading 2017-01-21-18-00"
       ]
      },
      {
       "output_type": "stream",
       "stream": "stdout",
       "text": [
        "\n",
        "Finished loading 2017-01-21-19-00"
       ]
      },
      {
       "output_type": "stream",
       "stream": "stdout",
       "text": [
        "\n",
        "Finished loading 2017-01-21-20-00"
       ]
      },
      {
       "output_type": "stream",
       "stream": "stdout",
       "text": [
        "\n",
        "Finished loading 2017-01-21-21-00"
       ]
      },
      {
       "output_type": "stream",
       "stream": "stdout",
       "text": [
        "\n",
        "Finished loading 2017-01-21-22-00"
       ]
      },
      {
       "output_type": "stream",
       "stream": "stdout",
       "text": [
        "\n",
        "Finished loading 2017-01-21-23-00"
       ]
      },
      {
       "output_type": "stream",
       "stream": "stdout",
       "text": [
        "\n"
       ]
      }
     ],
     "prompt_number": 4
    },
    {
     "cell_type": "code",
     "collapsed": false,
     "input": [
      "# Plot the number of tweets per 15min interval\n",
      "scaled_counts = np.array(counts)*10 # just to account for the 10% Gardenhose sample\n",
      "\n",
      "fig, ax = plt.subplots(figsize= (12, 7))\n",
      "plt.plot(times, scaled_counts, '-', color = '#F1625C', linewidth = 5.0)\n",
      "\n",
      "# Tidy up xticks\n",
      "plt.gcf().autofmt_xdate()\n",
      "plt.xticks(times[::12][1:], ['3am','6am','9am','12pm','3pm','6pm','9pm'],rotation='horizontal', horizontalalignment='center')\n",
      "for tick in ax.xaxis.get_major_ticks():\n",
      "    tick.label.set_fontsize(13.5) \n",
      "\n",
      "# Tidy up yticks\n",
      "for tick in ax.yaxis.get_major_ticks():\n",
      "    tick.label.set_fontsize(13.5) \n",
      "\n",
      "# Label axes\n",
      "plt.xlabel('Time (15 min. intervals)', fontsize = 20)\n",
      "plt.ylabel('Estimated Number of Tweets', fontsize = 20)\n",
      "plt.title(\"Women's March Tweets, January 21st, 2017\", fontsize = 22)\n",
      "\n",
      "# Give some nice shading\n",
      "ax.fill_between(times, scaled_counts, color='#213443', alpha=.9)\n",
      "\n",
      "# Annotate with tweet information (total tweets and peak tweets)\n",
      "total_tweets = np.sum(scaled_counts)\n",
      "plt.annotate(u'\\u2248{:,}\\nTotal Tweets'.format(int(round(total_tweets,-5))), xy=(datetime(2017,1,21,6), 150000), ha='center', va='bottom', fontsize=23)\n",
      "\n",
      "peak_tweets = max(scaled_counts)\n",
      "peak_time_index = list(scaled_counts).index(peak_tweets)\n",
      "peak_time   = times[list(scaled_counts).index(peak_tweets)]-timedelta(minutes=15)\n",
      "peak_span_tweets = np.sum(scaled_counts[peak_time_index:peak_time_index+9])\n",
      "plt.annotate(u'\\u2248{:,}\\nTweets at Peak'.format(int(round(peak_span_tweets,-5))), xy=(peak_time+timedelta(hours=1.5), peak_tweets), \n",
      "             xytext=(datetime(2017,1,21,21,0),170000), ha='center', va='bottom', fontsize=16,\n",
      "             arrowprops=dict(arrowstyle=\"->\",connectionstyle=\"arc3,rad=.4\"))\n",
      "ax.axvspan(times[peak_time_index],times[peak_time_index+9], alpha=0.2, color='black')"
     ],
     "language": "python",
     "metadata": {},
     "outputs": [
      {
       "metadata": {},
       "output_type": "pyout",
       "prompt_number": 5,
       "text": [
        "<matplotlib.patches.Polygon at 0xa35ed30>"
       ]
      },
      {
       "metadata": {},
       "output_type": "display_data",
       "png": "[encoded data removed]",
       "text": [
        "<matplotlib.figure.Figure at 0x9ee8160>"
       ]
      }
     ],
     "prompt_number": 5
    },
    {
     "cell_type": "code",
     "collapsed": false,
     "input": [
      "# Sort the hashtags by count\n",
      "counts_hashtags = sorted([(hashtag2count[hashtag],hashtag) for hashtag in hashtag2count], reverse = True)\n",
      "\n",
      "# Extract the top hashtags and counts into separate lists\n",
      "top_counts, top_hashtags = zip(*counts_hashtags[1:21])\n",
      "\n",
      "# Scale to account for 10% Twitter Gardenhose\n",
      "scaled_top_counts = np.array(top_counts)*10"
     ],
     "language": "python",
     "metadata": {},
     "outputs": [],
     "prompt_number": 6
    },
    {
     "cell_type": "markdown",
     "metadata": {},
     "source": [
      "Note, we make visualizations like this one a couple times. Ideally, it should probably be wrapped in a function"
     ]
    },
    {
     "cell_type": "code",
     "collapsed": false,
     "input": [
      "# Plot the frequency of the most used hashtags\n",
      "ypos = np.arange(len(top_hashtags))*1.1+.7\n",
      "\n",
      "fig, ax = plt.subplots(figsize= (9, 9))\n",
      "plt.barh(ypos,list(reversed(scaled_top_counts)), align='center', color = '#213443', \n",
      "         edgecolor = '#F1625C', linewidth = 2.0, alpha = .9)\n",
      "\n",
      "# Tidy up xticks\n",
      "xticks([0, 100000, 200000, 300000, 400000], ['0', '100000', '200000', '300000', '400000'])\n",
      "for tick in ax.xaxis.get_major_ticks():\n",
      "    tick.label.set_fontsize(14.5) \n",
      "\n",
      "# Tidy up yticks and limits\n",
      "plt.yticks(ypos, list(reversed(top_hashtags)))\n",
      "plt.ylim(0, 22.25)\n",
      "\n",
      "# Label axes\n",
      "plt.xlabel('Estimated Frequency', fontsize = 20)\n",
      "plt.title('Top Hashtags Used With #WomensMarch', fontsize = 22)\n",
      "\n",
      "for tick in ax.yaxis.get_major_ticks():\n",
      "    tick.label.set_fontsize(13) "
     ],
     "language": "python",
     "metadata": {},
     "outputs": [
      {
       "metadata": {},
       "output_type": "display_data",
       "png": "[encoded data removed]",
       "text": [
        "<matplotlib.figure.Figure at 0x9e4d6a0>"
       ]
      }
     ],
     "prompt_number": 7
    },
    {
     "cell_type": "heading",
     "level": 3,
     "metadata": {},
     "source": [
      "Hashtag Topic Network"
     ]
    },
    {
     "cell_type": "markdown",
     "metadata": {},
     "source": [
      "Having found the most popular hashtags during the day, we can go a step further. We'll pass through the tweets again, but this time construct a hashtag topic network where hashtags are nodes that are linked if they co-occurred in a tweet. This will be a weighted network, so every time they co-occurr, we'll add 1 to the weight of the link.\n",
      "\n",
      "There is a lot of noise in the full hashtag network, so we'll trim it to its most essential backbone. We can do this by applying the disparity filter, described in Serrano et al.'s paper \"Extracting the multiscale backbone of complex weighted networks.\" We'll also exclude the hashtag #womensmarch since it appears in nearly every tweet and doesn't tell us much about the other topics of conversation.\n",
      "\n",
      "We'll then briefly look at the most \"central\" nodes by examining which ones have the highest weighted degree (most connections adjusted by the weight on those connections)."
     ]
    },
    {
     "cell_type": "code",
     "collapsed": false,
     "input": [
      "# Reset no hashtags counts\n",
      "no_hashtags = 0\n",
      "\n",
      "# Setup an empty hashtag network\n",
      "hashtag_network = nx.Graph()\n",
      "\n",
      "# Creat a hashtag network from co-occurences of hashtags\n",
      "for time_interval_file in os.listdir('data/raw-tweets'):\n",
      "    with open('data/raw-tweets/'+time_interval_file, 'rb') as f:\n",
      "        count = 0\n",
      "        for line in f:\n",
      "            # Get tweet\n",
      "            tweet = json.loads(line)\n",
      "            if type(tweet) == dict:\n",
      "                # Get hashtags\n",
      "                try: # There might not be any hashtags\n",
      "                    hashtag_dict_list = tweet['twitter_entities']['hashtags']\n",
      "                    if len(hashtag_dict_list) > 1:\n",
      "                        # Extract hashtags\n",
      "                        hashtags = [hashtag_dict['text'].lower().encode('ascii','ignore') for hashtag_dict in hashtag_dict_list]\n",
      "                        # Don't want to add womensmarch, throws off backbone\n",
      "                        while 'womensmarch' in hashtags:\n",
      "                            hashtags.remove('womensmarch')\n",
      "                        # Update node size information \n",
      "                        for hashtag in hashtags:\n",
      "                            if hashtag in hashtag_network:\n",
      "                                hashtag_network.node[hashtag]['size'] += 1\n",
      "                            else:\n",
      "                                hashtag_network.add_node(hashtag, size = 1)\n",
      "                        # Create pairs of hashtags\n",
      "                        hashtag_pairs = list(combinations(hashtags,2))\n",
      "                        # Add edges to hashtag network\n",
      "                        for (hashtag1,hashtag2) in hashtag_pairs:\n",
      "                            if hashtag_network.has_edge(hashtag1, hashtag2):\n",
      "                                hashtag_network[hashtag1][hashtag2]['weight'] += 1\n",
      "                            else:\n",
      "                                hashtag_network.add_edge(hashtag1, hashtag2, weight=1)\n",
      "                                    \n",
      "                except KeyError:\n",
      "                    no_hashtags += 1\n",
      "        \n",
      "        if time_interval_file[-2:] == '00':\n",
      "            print 'Finished loading %s' % time_interval_file"
     ],
     "language": "python",
     "metadata": {},
     "outputs": [
      {
       "output_type": "stream",
       "stream": "stdout",
       "text": [
        "Finished loading 2017-01-21-00-00\n",
        "Finished loading 2017-01-21-01-00"
       ]
      },
      {
       "output_type": "stream",
       "stream": "stdout",
       "text": [
        "\n",
        "Finished loading 2017-01-21-02-00"
       ]
      },
      {
       "output_type": "stream",
       "stream": "stdout",
       "text": [
        "\n",
        "Finished loading 2017-01-21-03-00"
       ]
      },
      {
       "output_type": "stream",
       "stream": "stdout",
       "text": [
        "\n",
        "Finished loading 2017-01-21-04-00"
       ]
      },
      {
       "output_type": "stream",
       "stream": "stdout",
       "text": [
        "\n",
        "Finished loading 2017-01-21-05-00"
       ]
      },
      {
       "output_type": "stream",
       "stream": "stdout",
       "text": [
        "\n",
        "Finished loading 2017-01-21-06-00"
       ]
      },
      {
       "output_type": "stream",
       "stream": "stdout",
       "text": [
        "\n",
        "Finished loading 2017-01-21-07-00"
       ]
      },
      {
       "output_type": "stream",
       "stream": "stdout",
       "text": [
        "\n",
        "Finished loading 2017-01-21-08-00"
       ]
      },
      {
       "output_type": "stream",
       "stream": "stdout",
       "text": [
        "\n",
        "Finished loading 2017-01-21-09-00"
       ]
      },
      {
       "output_type": "stream",
       "stream": "stdout",
       "text": [
        "\n",
        "Finished loading 2017-01-21-10-00"
       ]
      },
      {
       "output_type": "stream",
       "stream": "stdout",
       "text": [
        "\n",
        "Finished loading 2017-01-21-11-00"
       ]
      },
      {
       "output_type": "stream",
       "stream": "stdout",
       "text": [
        "\n",
        "Finished loading 2017-01-21-12-00"
       ]
      },
      {
       "output_type": "stream",
       "stream": "stdout",
       "text": [
        "\n",
        "Finished loading 2017-01-21-13-00"
       ]
      },
      {
       "output_type": "stream",
       "stream": "stdout",
       "text": [
        "\n",
        "Finished loading 2017-01-21-14-00"
       ]
      },
      {
       "output_type": "stream",
       "stream": "stdout",
       "text": [
        "\n",
        "Finished loading 2017-01-21-15-00"
       ]
      },
      {
       "output_type": "stream",
       "stream": "stdout",
       "text": [
        "\n",
        "Finished loading 2017-01-21-16-00"
       ]
      },
      {
       "output_type": "stream",
       "stream": "stdout",
       "text": [
        "\n",
        "Finished loading 2017-01-21-17-00"
       ]
      },
      {
       "output_type": "stream",
       "stream": "stdout",
       "text": [
        "\n",
        "Finished loading 2017-01-21-18-00"
       ]
      },
      {
       "output_type": "stream",
       "stream": "stdout",
       "text": [
        "\n",
        "Finished loading 2017-01-21-19-00"
       ]
      },
      {
       "output_type": "stream",
       "stream": "stdout",
       "text": [
        "\n",
        "Finished loading 2017-01-21-20-00"
       ]
      },
      {
       "output_type": "stream",
       "stream": "stdout",
       "text": [
        "\n",
        "Finished loading 2017-01-21-21-00"
       ]
      },
      {
       "output_type": "stream",
       "stream": "stdout",
       "text": [
        "\n",
        "Finished loading 2017-01-21-22-00"
       ]
      },
      {
       "output_type": "stream",
       "stream": "stdout",
       "text": [
        "\n",
        "Finished loading 2017-01-21-23-00"
       ]
      },
      {
       "output_type": "stream",
       "stream": "stdout",
       "text": [
        "\n"
       ]
      }
     ],
     "prompt_number": 8
    },
    {
     "cell_type": "code",
     "collapsed": false,
     "input": [
      "def backbone(G, alpha):\n",
      "    \"\"\"\n",
      "    backbone(G,k): Creates the multiscale backbone of network G with respect to\n",
      "                   significance level alpha\n",
      "    INPUT:\n",
      "    G = network\n",
      "    alpha = significance level\n",
      "    OUTPOUT:\n",
      "    network = backbone network\n",
      "    \"\"\"\n",
      "    network = G.copy()\n",
      "    \n",
      "    edges_to_delete = []\n",
      "    # Determine which edges are not significant\n",
      "    for edge in network.edges():\n",
      "        node1 = edge[0]\n",
      "        node2 = edge[1]\n",
      "        edge_weight = network[node1][node2]['weight']\n",
      "        \n",
      "        # Get node1 degrees and calculate significance level\n",
      "        node1_degree = nx.degree(network, node1)\n",
      "        node1_weighted_degree = float(nx.degree(network, node1, weight='weight'))\n",
      "        node1_alpha = (1 - edge_weight/node1_weighted_degree)**(node1_degree-1)\n",
      "        # Get node2 degrees and calculate significance level\n",
      "        node2_degree = nx.degree(network, node2)\n",
      "        node2_weighted_degree = float(nx.degree(network, node2, weight='weight'))\n",
      "        node2_alpha = (1- edge_weight/node2_weighted_degree)**(node2_degree-1)\n",
      "        \n",
      "        # Determine if edge should be removed based on significance levels\n",
      "        if node1_degree < 2:\n",
      "            if node2_alpha >= alpha:\n",
      "                edges_to_delete.append(edge)\n",
      "        elif node2_degree < 2:\n",
      "            if node1_alpha >= alpha:\n",
      "                edges_to_delete.append(edge)\n",
      "        else:\n",
      "            if (node1_alpha >= alpha) and (node2_alpha >= alpha):\n",
      "                edges_to_delete.append(edge)\n",
      "                \n",
      "    for edge in edges_to_delete:\n",
      "        network.remove_edge(edge[0], edge[1])\n",
      "        \n",
      "    return network"
     ],
     "language": "python",
     "metadata": {},
     "outputs": [],
     "prompt_number": 9
    },
    {
     "cell_type": "code",
     "collapsed": false,
     "input": [
      "# Get largest connected component\n",
      "hashtag_network = max(nx.connected_component_subgraphs(hashtag_network), key=len)\n",
      "# Remove self loops (can happen if a person used same hashtag more than once in a tweet)\n",
      "hashtag_network.remove_edges_from(hashtag_network.selfloop_edges())"
     ],
     "language": "python",
     "metadata": {},
     "outputs": [],
     "prompt_number": 10
    },
    {
     "cell_type": "code",
     "collapsed": false,
     "input": [
      "len(hashtag_network.nodes())"
     ],
     "language": "python",
     "metadata": {},
     "outputs": [
      {
       "metadata": {},
       "output_type": "pyout",
       "prompt_number": 11,
       "text": [
        "14500"
       ]
      }
     ],
     "prompt_number": 11
    },
    {
     "cell_type": "code",
     "collapsed": false,
     "input": [
      "len(hashtag_network.edges())"
     ],
     "language": "python",
     "metadata": {},
     "outputs": [
      {
       "metadata": {},
       "output_type": "pyout",
       "prompt_number": 12,
       "text": [
        "58837"
       ]
      }
     ],
     "prompt_number": 12
    },
    {
     "cell_type": "code",
     "collapsed": false,
     "input": [
      "# Extract the hashtag network multiscale backbone\n",
      "hashtag_backbone = backbone(hashtag_network, 0.001)\n",
      "hashtag_backbone = max(nx.connected_component_subgraphs(hashtag_backbone), key=len)"
     ],
     "language": "python",
     "metadata": {},
     "outputs": [],
     "prompt_number": 13
    },
    {
     "cell_type": "code",
     "collapsed": false,
     "input": [
      "len(hashtag_backbone.nodes())"
     ],
     "language": "python",
     "metadata": {},
     "outputs": [
      {
       "metadata": {},
       "output_type": "pyout",
       "prompt_number": 14,
       "text": [
        "407"
       ]
      }
     ],
     "prompt_number": 14
    },
    {
     "cell_type": "code",
     "collapsed": false,
     "input": [
      "len(hashtag_backbone.edges())"
     ],
     "language": "python",
     "metadata": {},
     "outputs": [
      {
       "metadata": {},
       "output_type": "pyout",
       "prompt_number": 15,
       "text": [
        "776"
       ]
      }
     ],
     "prompt_number": 15
    },
    {
     "cell_type": "markdown",
     "metadata": {},
     "source": [
      "Unfortunately, I am not an expert at plotting things using NetworkX! Newtork images in the blog post were made by exporting to Gephi and using a GUI to tidy up the network visualization."
     ]
    },
    {
     "cell_type": "code",
     "collapsed": false,
     "input": [
      "# Save the backbone graph structure to import into Gephi\n",
      "nx.write_gml(hashtag_backbone, 'data/hashtag_network_backbone.gml')"
     ],
     "language": "python",
     "metadata": {},
     "outputs": [],
     "prompt_number": 16
    },
    {
     "cell_type": "code",
     "collapsed": false,
     "input": [
      "# Get the weighted degree (strength) of each node\n",
      "degree_hashtag = sorted([(hashtag_backbone.degree(hashtag,weight='weight'),hashtag) for hashtag in hashtag_backbone], reverse = True)"
     ],
     "language": "python",
     "metadata": {},
     "outputs": [],
     "prompt_number": 17
    },
    {
     "cell_type": "code",
     "collapsed": false,
     "input": [
      "# Get the hashtags with the highest weighted degree\n",
      "degrees,high_deg_hashtags = zip(*degree_hashtag[:20])"
     ],
     "language": "python",
     "metadata": {},
     "outputs": [],
     "prompt_number": 18
    },
    {
     "cell_type": "code",
     "collapsed": false,
     "input": [
      "# Plot the strength of nodes in the backbone\n",
      "ypos = np.arange(len(high_deg_hashtags))*1.1+.7\n",
      "\n",
      "fig, ax = plt.subplots(figsize= (9, 9))\n",
      "plt.barh(ypos,list(reversed(degrees)), align='center', color = '#213443', \n",
      "         edgecolor = '#F1625C', linewidth = 2.0, alpha = .9)\n",
      "\n",
      "# Tidy up xticks\n",
      "for tick in ax.xaxis.get_major_ticks():\n",
      "    tick.label.set_fontsize(14.5) \n",
      "\n",
      "# Tidy up yticks and limits\n",
      "plt.yticks(ypos, list(reversed(high_deg_hashtags)))\n",
      "plt.ylim(0, 22.25)\n",
      "\n",
      "# Label axes\n",
      "plt.xlabel('Weighted Degree', fontsize = 20)\n",
      "plt.title('Hashtags With Highest Weighted Degree', fontsize = 22)\n",
      "\n",
      "for tick in ax.yaxis.get_major_ticks():\n",
      "    tick.label.set_fontsize(13) "
     ],
     "language": "python",
     "metadata": {},
     "outputs": [
      {
       "metadata": {},
       "output_type": "display_data",
       "png": "[encoded data removed]",
       "text": [
        "<matplotlib.figure.Figure at 0xd0beb70>"
       ]
      }
     ],
     "prompt_number": 19
    },
    {
     "cell_type": "heading",
     "level": 3,
     "metadata": {},
     "source": [
      "Basic Count Statistics (That We Passed Over Earlier)"
     ]
    },
    {
     "cell_type": "code",
     "collapsed": false,
     "input": [
      "# Get some basic stats about Women's March tweets\n",
      "unique_users = set() # set of all user IDs\n",
      "tweet2count  = {}    # key: tweet ID, value: freq of tweet\n",
      "n_retweets   = 0     # number of tweets that were retweets\n",
      "n_total      = 0     # number of original posts\n",
      "\n",
      "for time_interval_file in os.listdir('data/raw-tweets'):\n",
      "    with open('data/raw-tweets/'+time_interval_file, 'rb') as f:\n",
      "        count = 0\n",
      "        for line in f:\n",
      "            # Get tweet\n",
      "            tweet = json.loads(line)\n",
      "            if type(tweet) == dict:\n",
      "                n_total += 1\n",
      "                if tweet['verb'] == 'share':\n",
      "                    n_retweets += 1\n",
      "                    user_id = tweet['actor']['id'][15:] # extra chracters in front of actual ID\n",
      "                    unique_users.add(user_id)\n",
      "                    retweet_id = tweet['object']['id'][28:]\n",
      "                    if retweet_id in tweet2count:\n",
      "                        tweet2count[retweet_id] += 1\n",
      "                    else:\n",
      "                        tweet2count[retweet_id] = 1\n",
      "                else:\n",
      "                    user_id = tweet['actor']['id'][15:]\n",
      "                    unique_users.add(user_id)\n",
      "        \n",
      "        if time_interval_file[-2:] == '00':\n",
      "            print 'Finished loading %s' % time_interval_file"
     ],
     "language": "python",
     "metadata": {},
     "outputs": [
      {
       "output_type": "stream",
       "stream": "stdout",
       "text": [
        "Finished loading 2017-01-21-00-00\n",
        "Finished loading 2017-01-21-01-00"
       ]
      },
      {
       "output_type": "stream",
       "stream": "stdout",
       "text": [
        "\n",
        "Finished loading 2017-01-21-02-00"
       ]
      },
      {
       "output_type": "stream",
       "stream": "stdout",
       "text": [
        "\n",
        "Finished loading 2017-01-21-03-00"
       ]
      },
      {
       "output_type": "stream",
       "stream": "stdout",
       "text": [
        "\n",
        "Finished loading 2017-01-21-04-00"
       ]
      },
      {
       "output_type": "stream",
       "stream": "stdout",
       "text": [
        "\n",
        "Finished loading 2017-01-21-05-00"
       ]
      },
      {
       "output_type": "stream",
       "stream": "stdout",
       "text": [
        "\n",
        "Finished loading 2017-01-21-06-00"
       ]
      },
      {
       "output_type": "stream",
       "stream": "stdout",
       "text": [
        "\n",
        "Finished loading 2017-01-21-07-00"
       ]
      },
      {
       "output_type": "stream",
       "stream": "stdout",
       "text": [
        "\n",
        "Finished loading 2017-01-21-08-00"
       ]
      },
      {
       "output_type": "stream",
       "stream": "stdout",
       "text": [
        "\n",
        "Finished loading 2017-01-21-09-00"
       ]
      },
      {
       "output_type": "stream",
       "stream": "stdout",
       "text": [
        "\n",
        "Finished loading 2017-01-21-10-00"
       ]
      },
      {
       "output_type": "stream",
       "stream": "stdout",
       "text": [
        "\n",
        "Finished loading 2017-01-21-11-00"
       ]
      },
      {
       "output_type": "stream",
       "stream": "stdout",
       "text": [
        "\n",
        "Finished loading 2017-01-21-12-00"
       ]
      },
      {
       "output_type": "stream",
       "stream": "stdout",
       "text": [
        "\n",
        "Finished loading 2017-01-21-13-00"
       ]
      },
      {
       "output_type": "stream",
       "stream": "stdout",
       "text": [
        "\n",
        "Finished loading 2017-01-21-14-00"
       ]
      },
      {
       "output_type": "stream",
       "stream": "stdout",
       "text": [
        "\n",
        "Finished loading 2017-01-21-15-00"
       ]
      },
      {
       "output_type": "stream",
       "stream": "stdout",
       "text": [
        "\n",
        "Finished loading 2017-01-21-16-00"
       ]
      },
      {
       "output_type": "stream",
       "stream": "stdout",
       "text": [
        "\n",
        "Finished loading 2017-01-21-17-00"
       ]
      },
      {
       "output_type": "stream",
       "stream": "stdout",
       "text": [
        "\n",
        "Finished loading 2017-01-21-18-00"
       ]
      },
      {
       "output_type": "stream",
       "stream": "stdout",
       "text": [
        "\n",
        "Finished loading 2017-01-21-19-00"
       ]
      },
      {
       "output_type": "stream",
       "stream": "stdout",
       "text": [
        "\n",
        "Finished loading 2017-01-21-20-00"
       ]
      },
      {
       "output_type": "stream",
       "stream": "stdout",
       "text": [
        "\n",
        "Finished loading 2017-01-21-21-00"
       ]
      },
      {
       "output_type": "stream",
       "stream": "stdout",
       "text": [
        "\n",
        "Finished loading 2017-01-21-22-00"
       ]
      },
      {
       "output_type": "stream",
       "stream": "stdout",
       "text": [
        "\n",
        "Finished loading 2017-01-21-23-00"
       ]
      },
      {
       "output_type": "stream",
       "stream": "stdout",
       "text": [
        "\n"
       ]
      }
     ],
     "prompt_number": 20
    },
    {
     "cell_type": "code",
     "collapsed": false,
     "input": [
      "# Total number of tweets\n",
      "n_total"
     ],
     "language": "python",
     "metadata": {},
     "outputs": [
      {
       "metadata": {},
       "output_type": "pyout",
       "prompt_number": 22,
       "text": [
        "854811"
       ]
      }
     ],
     "prompt_number": 22
    },
    {
     "cell_type": "code",
     "collapsed": false,
     "input": [
      "# Total number of retweets\n",
      "n_retweets"
     ],
     "language": "python",
     "metadata": {},
     "outputs": [
      {
       "metadata": {},
       "output_type": "pyout",
       "prompt_number": 23,
       "text": [
        "736094"
       ]
      }
     ],
     "prompt_number": 23
    },
    {
     "cell_type": "code",
     "collapsed": false,
     "input": [
      "# Proportion of tweets that were retweets\n",
      "n_retweets / float(n_total)"
     ],
     "language": "python",
     "metadata": {},
     "outputs": [
      {
       "metadata": {},
       "output_type": "pyout",
       "prompt_number": 24,
       "text": [
        "0.8611190075934915"
       ]
      }
     ],
     "prompt_number": 24
    },
    {
     "cell_type": "code",
     "collapsed": false,
     "input": [
      "# Number of unique tweeters\n",
      "len(unique_users)"
     ],
     "language": "python",
     "metadata": {},
     "outputs": [
      {
       "metadata": {},
       "output_type": "pyout",
       "prompt_number": 25,
       "text": [
        "527988"
       ]
      }
     ],
     "prompt_number": 25
    },
    {
     "cell_type": "code",
     "collapsed": false,
     "input": [
      "# Number of tweets per user\n",
      "n_total / float(len(unique_users))"
     ],
     "language": "python",
     "metadata": {},
     "outputs": [
      {
       "metadata": {},
       "output_type": "pyout",
       "prompt_number": 26,
       "text": [
        "1.618997022659606"
       ]
      }
     ],
     "prompt_number": 26
    },
    {
     "cell_type": "code",
     "collapsed": false,
     "input": [
      "count_retweet = sorted([(tweet2count[retweet], retweet) for retweet in tweet2count], reverse = True)"
     ],
     "language": "python",
     "metadata": {},
     "outputs": [],
     "prompt_number": 27
    },
    {
     "cell_type": "code",
     "collapsed": false,
     "input": [
      "# Most retweeted statuses during the day\n",
      "count_retweet[:5]"
     ],
     "language": "python",
     "metadata": {},
     "outputs": [
      {
       "metadata": {},
       "output_type": "pyout",
       "prompt_number": 28,
       "text": [
        "[(12117, u'822851628071993344'),\n",
        " (11204, u'822862378903535617'),\n",
        " (6694, u'822846188936396803'),\n",
        " (4757, u'822849232323252225'),\n",
        " (4630, u'822834279205969921')]"
       ]
      }
     ],
     "prompt_number": 28
    },
    {
     "cell_type": "heading",
     "level": 3,
     "metadata": {},
     "source": [
      "Geospatial Statistics"
     ]
    },
    {
     "cell_type": "markdown",
     "metadata": {},
     "source": [
      "We'll collect some statistics on from where people were tweeting. The visualizations are rather elementary, since I am not very familiar with plotting maps in Python. There are definitely some nice heat maps lurking here if you have practice mapping data."
     ]
    },
    {
     "cell_type": "code",
     "collapsed": false,
     "input": [
      "# Record data about locations\n",
      "loc2count = {}\n",
      "loc_name2count = {}\n",
      "country2count = {}\n",
      "place_type2count = {}\n",
      "\n",
      "for time_interval_file in os.listdir('data/raw-tweets'):\n",
      "    with open('data/raw-tweets/'+time_interval_file, 'rb') as f:\n",
      "        count = 0\n",
      "        for line in f:\n",
      "            # Get tweet\n",
      "            tweet = json.loads(line)\n",
      "            if type(tweet) == dict:\n",
      "                if 'location' in tweet:\n",
      "                    location = tweet['location']['name']\n",
      "                    location_name = tweet['location']['displayName']\n",
      "                    country = tweet['location']['country_code']\n",
      "                    place_type = tweet['location']['twitter_place_type']\n",
      "                    \n",
      "                    # This is hacky... should just write a function\n",
      "                    for (key,key2value) in [(location,loc2count),(location_name,loc_name2count),\n",
      "                                            (country,country2count),(place_type,place_type2count)]:\n",
      "                        if key in key2value:\n",
      "                            key2value[key] += 1\n",
      "                        else:\n",
      "                            key2value[key] = 1\n",
      "                    "
     ],
     "language": "python",
     "metadata": {},
     "outputs": [],
     "prompt_number": 29
    },
    {
     "cell_type": "code",
     "collapsed": false,
     "input": [
      "# Get location names and counts of those locations\n",
      "counts_loc_names,loc_names = zip(*sorted([(loc_name2count[loc],loc) for loc in loc_name2count], reverse = True)[:20])\n",
      "scaled_loc_counts = np.array(counts_loc_names)*10"
     ],
     "language": "python",
     "metadata": {},
     "outputs": [],
     "prompt_number": 30
    },
    {
     "cell_type": "code",
     "collapsed": false,
     "input": [
      "# Get country names and counts of those countries\n",
      "counts_countries,countries = zip(*sorted([(country2count[loc],loc) for loc in country2count], reverse = True)[1:21])\n",
      "scaled_country_counts = np.array(counts_countries)*10"
     ],
     "language": "python",
     "metadata": {},
     "outputs": [],
     "prompt_number": 31
    },
    {
     "cell_type": "code",
     "collapsed": false,
     "input": [
      "f, (ax1, ax2) = plt.subplots(1, 2, figsize=(18,9))\n",
      "\n",
      "ypos = np.arange(len(loc_names))*1.1+.7\n",
      "\n",
      "# Plot the cities\n",
      "ax1.barh(ypos,list(reversed(scaled_loc_counts)), align='center', color = '#213443', \n",
      "         edgecolor = '#F1625C', linewidth = 2.0, alpha = .9)\n",
      "# Tidy up xticks\n",
      "for tick in ax1.xaxis.get_major_ticks():\n",
      "    tick.label.set_fontsize(14.5)\n",
      "# Tidy up yticks and limits\n",
      "ax1.set_yticks(ypos)\n",
      "ax1.set_yticklabels(list(reversed(loc_names)))\n",
      "ax1.set_ylim(0, 22.25)\n",
      "ax1.set_title('U.S. Cities', fontsize = 20)\n",
      "ax1.set_xlabel('Estimated Number of Tweets', fontsize = 20)\n",
      "                             \n",
      "# Plot the countries\n",
      "ax2.barh(ypos,list(reversed(scaled_country_counts)), align='center', color = '#213443', \n",
      "         edgecolor = '#F1625C', linewidth = 2.0, alpha = .9)\n",
      "# Tidy up xticks\n",
      "for tick in ax2.xaxis.get_major_ticks():\n",
      "    tick.label.set_fontsize(14.5)\n",
      "# Tidy up yticks and limits\n",
      "ax2.set_yticks(ypos)\n",
      "ax2.set_yticklabels(list(reversed(countries)))\n",
      "ax2.set_ylim(0, 22.25)\n",
      "ax2.set_title('International Countries', fontsize = 20)\n",
      "ax2.set_xlabel('Estimated Number of Tweets', fontsize = 20)\n",
      "\n",
      "plt.suptitle('Locations of Tweets', fontsize = 24)\n"
     ],
     "language": "python",
     "metadata": {},
     "outputs": [
      {
       "metadata": {},
       "output_type": "pyout",
       "prompt_number": 32,
       "text": [
        "<matplotlib.text.Text at 0x145fc828>"
       ]
      },
      {
       "metadata": {},
       "output_type": "display_data",
       "png": "[encoded data removed]",
       "text": [
        "<matplotlib.figure.Figure at 0xcd5d208>"
       ]
      }
     ],
     "prompt_number": 32
    },
    {
     "cell_type": "heading",
     "level": 3,
     "metadata": {},
     "source": [
      "Exporting Tweet IDs"
     ]
    },
    {
     "cell_type": "markdown",
     "metadata": {},
     "source": [
      "This is only the tip of the iceberg! There are many more stories surrounding how people talked about the Women's March online. \n",
      "\n",
      "The code below details how to collect all of the tweet IDs and write them to a file. This file has been made avaible online, so that you may also analyze these tweets."
     ]
    },
    {
     "cell_type": "code",
     "collapsed": false,
     "input": [
      "tweet_ids = []\n",
      "for time_interval_file in os.listdir('data/raw-tweets'):\n",
      "    with open('data/raw-tweets/'+time_interval_file, 'rb') as f:\n",
      "        count = 0\n",
      "        for line in f:\n",
      "            # Get tweet\n",
      "            tweet = json.loads(line)\n",
      "            if type(tweet) == dict:\n",
      "                tweet_ids.append(tweet['id'][28:])        "
     ],
     "language": "python",
     "metadata": {},
     "outputs": [],
     "prompt_number": 39
    },
    {
     "cell_type": "code",
     "collapsed": false,
     "input": [
      "with open('data/womens-march-tweet-ids.txt', 'a') as f:\n",
      "    for i,tweet_id in enumerate(tweet_ids):\n",
      "        if i != 0:\n",
      "            f.write(',' + str(tweet_id))\n",
      "        else:\n",
      "            f.write(str(tweet_id))"
     ],
     "language": "python",
     "metadata": {},
     "outputs": [],
     "prompt_number": 42
    }
   ],
   "metadata": {}
  }
 ]
}